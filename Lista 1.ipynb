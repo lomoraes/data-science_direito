{
 "cells": [
  {
   "cell_type": "markdown",
   "metadata": {
    "button": false,
    "new_sheet": false,
    "run_control": {
     "read_only": false
    }
   },
   "source": [
    "# Primeira Lista de Exercícios\n",
    "\n",
    "Entrada, Saída, Variáveis e Operadores\n",
    "Para os exercícios a seguir, você precisará gerenciar a criação de, e atribuição de valor a, variáveis, entrada e saída de dados (input() e print()) e o uso de operadores matemáticos (+ - / * %).\n",
    "\n",
    "## Exercício 1:\n",
    "Leia o nome, a idade, a altura, o peso e a nacionalidade do usuário e escreva essas informações na forma de um parágrafo de apresentação."
   ]
  },
  {
   "cell_type": "code",
   "execution_count": null,
   "metadata": {
    "button": false,
    "new_sheet": false,
    "run_control": {
     "read_only": false
    },
    "scrolled": true
   },
   "outputs": [
    {
     "name": "stdout",
     "output_type": "stream",
     "text": [
      "Diga a sua idade:\n"
     ]
    }
   ],
   "source": [
    "print(\"Diga a sua idade:\")\n",
    "idade = input()\n",
    "\n",
    "print(\"Diga a sua altura\")\n",
    "altura = input()\n",
    "\n",
    "print(\"Diga o seu peso:\")\n",
    "peso = input()\n",
    "\n",
    "print(\"Diga a sua nacionalidade:\")\n",
    "nacionalidade = input()\n",
    "\n",
    "print(\"Bem-vindo! Você tem \" + idade + \" anos, \" + altura + \" de altura, pesa \" + peso + \" kilos e é \" + nacionalidade + \".\")"
   ]
  },
  {
   "cell_type": "markdown",
   "metadata": {
    "button": false,
    "new_sheet": false,
    "run_control": {
     "read_only": false
    }
   },
   "source": [
    "## Exercício 2:\n",
    "Leia da entrada 2 valores de ponto flutuante de dupla precisão A e B, que correspondem a 2 notas de um aluno. A seguir, calcule a média do aluno, sabendo que a nota A tem peso 3.5 e a nota B tem peso 7.5 (A soma dos pesos portanto é 11). Assuma que cada nota pode ir de 0 até 10.0, sempre com uma casa decimal."
   ]
  },
  {
   "cell_type": "code",
   "execution_count": 27,
   "metadata": {
    "button": false,
    "new_sheet": false,
    "run_control": {
     "read_only": false
    }
   },
   "outputs": [
    {
     "name": "stdout",
     "output_type": "stream",
     "text": [
      "Digite a primeira nota:\n",
      "4\n",
      "Digite a segunda nota:\n",
      "9\n",
      "A nota final é 7.4\n"
     ]
    }
   ],
   "source": [
    "nota1 = float\n",
    "nota2 = float\n",
    "\n",
    "print(\"Digite a primeira nota:\")\n",
    "nota1 =  input()\n",
    "\n",
    "print(\"Digite a segunda nota:\")\n",
    "nota2 = input()\n",
    "\n",
    "nota_final = (float(nota1)*3.5 + float(nota2)*7.5)/11\n",
    "print(\"A nota final é \" + str(nota_final)[:3])"
   ]
  },
  {
   "cell_type": "markdown",
   "metadata": {
    "button": false,
    "new_sheet": false,
    "run_control": {
     "read_only": false
    }
   },
   "source": [
    "## Exercício 3:\n",
    "Transforme uma temperatura fornecida em Celsius para a correspondente em Fahrenheit. A formula de conversão de Celsius para Fahrenheit é a seguinte: C = (5/9) * (F – 32)."
   ]
  },
  {
   "cell_type": "code",
   "execution_count": 23,
   "metadata": {
    "button": false,
    "new_sheet": false,
    "run_control": {
     "read_only": false
    }
   },
   "outputs": [
    {
     "name": "stdout",
     "output_type": "stream",
     "text": [
      "Digite a temperatura em Celsius\n",
      "100\n",
      "Sua temperatura em Farenheit é 212.0\n"
     ]
    }
   ],
   "source": [
    "print(\"Digite a temperatura em Celsius\")\n",
    "\n",
    "temp_celsius = input()\n",
    "\n",
    "temp_farenheit = (int(temp_celsius) *(9/5)) + 32\n",
    "\n",
    "print(\"Sua temperatura em Farenheit é \" + str(temp_farenheit))"
   ]
  },
  {
   "cell_type": "markdown",
   "metadata": {
    "button": false,
    "new_sheet": false,
    "run_control": {
     "read_only": false
    }
   },
   "source": [
    "## Exercício 4:\n",
    "Leia dois valores inteiros x e y. O programa deve trocar os valores lidos, de forma que, ao final, x contenha o valor que foi inicialmente atribuído em y, e y contenha o valor que foi inicialmente atribuído a x. Imprima os valores de x e y logo após a leitura, e depois imprima novamente após a troca.\n"
   ]
  },
  {
   "cell_type": "code",
   "execution_count": 30,
   "metadata": {
    "button": false,
    "new_sheet": false,
    "run_control": {
     "read_only": false
    }
   },
   "outputs": [
    {
     "name": "stdout",
     "output_type": "stream",
     "text": [
      "Digite x:\n",
      "7\n",
      "x é 7\n",
      "Digite y:\n",
      "9\n",
      "y é 9\n",
      "Depois de trocados, x é 9 e y é 7\n"
     ]
    }
   ],
   "source": [
    "print(\"Digite x:\")\n",
    "x = input()\n",
    "print(\"x é \" + x)\n",
    "\n",
    "print(\"Digite y:\")\n",
    "y = input()\n",
    "print(\"y é \" + y)\n",
    "\n",
    "x_temp = x\n",
    "x = y\n",
    "y = x_temp\n",
    "\n",
    "print(\"Depois de trocados, x é \" + x + \" e y é \" + y)"
   ]
  },
  {
   "cell_type": "markdown",
   "metadata": {
    "button": false,
    "new_sheet": false,
    "run_control": {
     "read_only": false
    }
   },
   "source": [
    "## Exercício 5:\n",
    "Leia dois valores inteiros. A seguir, calcule o produto entre estes dois valores e atribua esta operação à variável PROD. A seguir mostre a variável PROD com mensagem correspondente (por exemplo, PROD = 15).\n"
   ]
  },
  {
   "cell_type": "code",
   "execution_count": null,
   "metadata": {
    "button": false,
    "new_sheet": false,
    "run_control": {
     "read_only": false
    }
   },
   "outputs": [],
   "source": [
    "print(\"Digite o primeiro valor:\")\n",
    "valor1 = input()\n",
    "\n",
    "print(\"Digite o segundo valor:\")\n",
    "valor2 = input()\n",
    "\n",
    "PROD = int(valor1) * int(valor2)\n",
    "\n",
    "print(\"PROD = \" + str(PROD))"
   ]
  },
  {
   "cell_type": "code",
   "execution_count": null,
   "metadata": {},
   "outputs": [],
   "source": []
  }
 ],
 "metadata": {
  "kernelspec": {
   "display_name": "Python 3",
   "language": "python",
   "name": "python3"
  },
  "language_info": {
   "codemirror_mode": {
    "name": "ipython",
    "version": 3
   },
   "file_extension": ".py",
   "mimetype": "text/x-python",
   "name": "python",
   "nbconvert_exporter": "python",
   "pygments_lexer": "ipython3",
   "version": "3.8.5"
  }
 },
 "nbformat": 4,
 "nbformat_minor": 4
}
